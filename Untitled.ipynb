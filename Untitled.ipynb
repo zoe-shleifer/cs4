{
 "cells": [
  {
   "cell_type": "code",
   "execution_count": 8,
   "metadata": {},
   "outputs": [],
   "source": [
    "import pandas as pd\n",
    "import numpy as np\n",
    "import matplotlib.pyplot as plt"
   ]
  },
  {
   "cell_type": "code",
   "execution_count": 9,
   "metadata": {},
   "outputs": [
    {
     "data": {
      "text/plain": [
       "<matplotlib.collections.PathCollection at 0x7fa407dbe190>"
      ]
     },
     "execution_count": 9,
     "metadata": {},
     "output_type": "execute_result"
    },
    {
     "data": {
      "image/png": "[encoded data removed]",
      "text/plain": [
       "<Figure size 432x288 with 1 Axes>"
      ]
     },
     "metadata": {
      "needs_background": "light"
     },
     "output_type": "display_data"
    }
   ],
   "source": [
    "sample_data = pd.DataFrame(np.random.randn(50,2))\n",
    "plt.scatter(sample_data[0],sample_data[1])"
   ]
  },
  {
   "cell_type": "code",
   "execution_count": null,
   "metadata": {},
   "outputs": [],
   "source": []
  },
  {
   "cell_type": "code",
   "execution_count": 84,
   "metadata": {},
   "outputs": [],
   "source": [
    "def euclid(p1,p2): return np.sqrt(sum(np.square(p1-p2))) # compute euclidean distance between two tuples, (standard metric on R^2)\n",
    "\n",
    "def centroid(data,index):return tuple(np.mean(data.loc[index]))\n",
    "\n",
    "def distance_matrix(s1,s2,met=euclid):\n",
    "    return s1.apply(lambda x: [met(tuple(x),s2x) for s2x in s2.values],result_type='expand',axis=1)\n",
    "\n",
    "def kmeans_step(data,means,matr,center):\n",
    "    distance_df = matr(data,means)\n",
    "    clusters = data.groupby(distance_df.idxmin(axis=1)).groups\n",
    "    new_means = pd.DataFrame([center(data,cluster) for cluster in clusters.values()])\n",
    "    if np.array_equal(new_means.values,means.values): return (distance_df.idxmin(axis=1),means)\n",
    "    return kmeans_step(data,new_means,matr,center)\n",
    "\n",
    "def kmeans_err(data,clusters,means):\n",
    "    print('hi')\n",
    "\n",
    "def run_kmeans(data,k,kmeans_step,matr=distance_matrix,center=centroid,print_err=True):\n",
    "    means_i = data.sample(k,replace=False) # pick k rows of data\n",
    "    return kmeans_step(data,means_i,matr,center)\n",
    "\n",
    "clusters,final_means = run_kmeans(sample_data,3,kmeans_step)\n",
    "fig, ax = plt.subplots(1,1)\n",
    "plt.scatter(sample_data[0],sample_data[1],c=clusters)\n",
    "ax.scatter(final_means[0],final_means[1])\n",
    "print(final_means)\n",
    "print(sample_data.groupby(clusters))"
   ]
  },
  {
   "cell_type": "code",
   "execution_count": 88,
   "metadata": {},
   "outputs": [
    {
     "name": "stdout",
     "output_type": "stream",
     "text": [
      "{0: Int64Index([ 0,  3,  4,  6,  8, 10, 12, 15, 19, 20, 21, 23, 28, 29, 30, 33, 35,\n",
      "            36, 39, 41, 42, 46, 49],\n",
      "           dtype='int64'), 1: Int64Index([2, 11, 13, 16, 17, 22, 24, 25, 32, 34, 37, 38, 40, 43, 44, 47, 48], dtype='int64'), 2: Int64Index([1, 5, 7, 9, 14, 18, 26, 27, 31, 45], dtype='int64')}\n",
      "          0         1\n",
      "0  0.802857  0.377273\n",
      "1  0.102057 -1.058308\n",
      "2 -0.704907  1.081810\n",
      "{0: Int64Index([3, 4, 6, 8, 10, 12, 15, 19, 20, 23, 28, 29, 30, 33, 36, 39, 41, 42,\n",
      "            46, 49],\n",
      "           dtype='int64'), 1: Int64Index([2, 11, 13, 16, 17, 22, 24, 25, 32, 34, 37, 38, 40, 43, 44, 45, 47,\n",
      "            48],\n",
      "           dtype='int64'), 2: Int64Index([0, 1, 5, 7, 9, 14, 18, 21, 26, 27, 31, 35], dtype='int64')}\n",
      "          0         1\n",
      "0  0.912075  0.288235\n",
      "1  0.032050 -1.018352\n",
      "2 -0.472232  1.172481\n",
      "{0: Int64Index([3, 4, 6, 8, 10, 12, 15, 19, 20, 23, 28, 29, 30, 33, 36, 39, 41, 42,\n",
      "            46],\n",
      "           dtype='int64'), 1: Int64Index([2, 11, 13, 16, 17, 22, 24, 25, 26, 32, 34, 37, 38, 40, 43, 44, 45,\n",
      "            47, 48],\n",
      "           dtype='int64'), 2: Int64Index([0, 1, 5, 7, 9, 14, 18, 21, 27, 31, 35, 49], dtype='int64')}\n",
      "          0         1\n",
      "0  0.951737  0.259531\n",
      "1 -0.048715 -0.981760\n",
      "2 -0.333816  1.268874\n",
      "{0: Int64Index([3, 4, 6, 8, 10, 12, 15, 19, 20, 23, 28, 29, 30, 33, 36, 39, 41, 42,\n",
      "            46],\n",
      "           dtype='int64'), 1: Int64Index([2, 11, 13, 16, 17, 22, 24, 25, 26, 32, 34, 37, 38, 40, 43, 44, 45,\n",
      "            47, 48],\n",
      "           dtype='int64'), 2: Int64Index([0, 1, 5, 7, 9, 14, 18, 21, 27, 31, 35, 49], dtype='int64')}\n",
      "          0         1\n",
      "0  0.951737  0.259531\n",
      "1 -0.048715 -0.981760\n",
      "2 -0.333816  1.268874\n",
      "          0         1\n",
      "0  0.951737  0.259531\n",
      "1 -0.048715 -0.981760\n",
      "2 -0.333816  1.268874\n",
      "<pandas.core.groupby.generic.DataFrameGroupBy object at 0x7fa409170050>\n"
     ]
    },
    {
     "data": {
      "image/png": "[encoded data removed]",
      "text/plain": [
       "<Figure size 432x288 with 1 Axes>"
      ]
     },
     "metadata": {
      "needs_background": "light"
     },
     "output_type": "display_data"
    }
   ],
   "source": []
  },
  {
   "cell_type": "code",
   "execution_count": null,
   "metadata": {},
   "outputs": [],
   "source": []
  },
  {
   "cell_type": "code",
   "execution_count": null,
   "metadata": {},
   "outputs": [],
   "source": []
  }
 ],
 "metadata": {
  "kernelspec": {
   "display_name": "Python 3",
   "language": "python",
   "name": "python3"
  },
  "language_info": {
   "codemirror_mode": {
    "name": "ipython",
    "version": 3
   },
   "file_extension": ".py",
   "mimetype": "text/x-python",
   "name": "python",
   "nbconvert_exporter": "python",
   "pygments_lexer": "ipython3",
   "version": "3.7.6"
  }
 },
 "nbformat": 4,
 "nbformat_minor": 4
}
