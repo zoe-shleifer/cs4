{
 "cells": [
  {
   "cell_type": "code",
   "execution_count": 3,
   "metadata": {},
   "outputs": [],
   "source": [
    "def get_labeled_words(examples=1000):\n",
    "    '''get_labeled_words(examples=1000) returns X,y of word vecs and labels'''\n",
    "    import nltk\n",
    "    import csv\n",
    "    from keras.preprocessing.text import Tokenizer\n",
    "    from nltk.corpus import stopwords  \n",
    "    from nltk.tokenize import word_tokenize\n",
    "    import pandas as pd\n",
    "    import numpy as np\n",
    "    tsv_file = open('/Users/zoeshleifer/Downloads/labeledTrainData.tsv')\n",
    "    read_tsv = csv.reader(tsv_file, delimiter=\"\\t\")\n",
    "    docs = [row[-1] for row in read_tsv][1:examples]\n",
    "    tokenizer = Tokenizer()\n",
    "    tokenizer.fit_on_texts(docs)\n",
    "    vocab = list(tokenizer.word_index.keys())\n",
    "    stop_words = set(stopwords.words('english'))\n",
    "    bad_words = list(set(vocab).intersection(stop_words))\n",
    "    display = tokenizer.texts_to_matrix(docs, mode='count')\n",
    "    df = pd.DataFrame(display).drop([0],axis=1)\n",
    "    df = df.set_axis(vocab,axis=1)\n",
    "    df = df.drop(bad_words,axis=1)\n",
    "    labels = [row[1] for row in read_tsv][1:examples]\n",
    "    X = np.array(df.astype(float))    \n",
    "    y = np.array(pd.Series(labels).astype(float))\n",
    "    return X,y"
   ]
  },
  {
   "cell_type": "code",
   "execution_count": 11,
   "metadata": {},
   "outputs": [
    {
     "ename": "TypeError",
     "evalue": "'builtin_function_or_method' object is not subscriptable",
     "output_type": "error",
     "traceback": [
      "\u001b[0;31m---------------------------------------------------------------------------\u001b[0m",
      "\u001b[0;31mTypeError\u001b[0m                                 Traceback (most recent call last)",
      "\u001b[0;32m<ipython-input-11-cd46ba75032d>\u001b[0m in \u001b[0;36m<module>\u001b[0;34m\u001b[0m\n\u001b[1;32m     42\u001b[0m \u001b[0mx\u001b[0m \u001b[0;34m=\u001b[0m \u001b[0mtf\u001b[0m\u001b[0;34m.\u001b[0m\u001b[0mVariable\u001b[0m\u001b[0;34m(\u001b[0m\u001b[0mX\u001b[0m\u001b[0;34m)\u001b[0m\u001b[0;34m\u001b[0m\u001b[0;34m\u001b[0m\u001b[0m\n\u001b[1;32m     43\u001b[0m \u001b[0mx_shape\u001b[0m \u001b[0;34m=\u001b[0m \u001b[0mlist\u001b[0m\u001b[0;34m(\u001b[0m\u001b[0mx\u001b[0m\u001b[0;34m.\u001b[0m\u001b[0mshape\u001b[0m\u001b[0;34m)\u001b[0m\u001b[0;34m[\u001b[0m\u001b[0;36m1\u001b[0m\u001b[0;34m]\u001b[0m\u001b[0;34m\u001b[0m\u001b[0;34m\u001b[0m\u001b[0m\n\u001b[0;32m---> 44\u001b[0;31m \u001b[0mweights\u001b[0m\u001b[0;34m,\u001b[0m\u001b[0mbiases\u001b[0m \u001b[0;34m=\u001b[0m  \u001b[0minit_weights\u001b[0m\u001b[0;34m(\u001b[0m\u001b[0mx_shape\u001b[0m\u001b[0;34m,\u001b[0m\u001b[0mlayer_shapes\u001b[0m\u001b[0;34m)\u001b[0m\u001b[0;34m\u001b[0m\u001b[0;34m\u001b[0m\u001b[0m\n\u001b[0m\u001b[1;32m     45\u001b[0m \u001b[0;34m\u001b[0m\u001b[0m\n\u001b[1;32m     46\u001b[0m \u001b[0;32mwhile\u001b[0m\u001b[0;34m(\u001b[0m\u001b[0mlen\u001b[0m\u001b[0;34m(\u001b[0m\u001b[0mlosses\u001b[0m\u001b[0;34m)\u001b[0m \u001b[0;34m==\u001b[0m \u001b[0;36m0\u001b[0m \u001b[0;32mor\u001b[0m \u001b[0mlosses\u001b[0m\u001b[0;34m[\u001b[0m\u001b[0;34m-\u001b[0m\u001b[0;36m1\u001b[0m\u001b[0;34m]\u001b[0m \u001b[0;34m>\u001b[0m \u001b[0;36m0.1\u001b[0m\u001b[0;34m)\u001b[0m\u001b[0;34m:\u001b[0m\u001b[0;34m\u001b[0m\u001b[0;34m\u001b[0m\u001b[0m\n",
      "\u001b[0;32m<ipython-input-11-cd46ba75032d>\u001b[0m in \u001b[0;36minit_weights\u001b[0;34m(x_shape, layer_sizes)\u001b[0m\n\u001b[1;32m     21\u001b[0m     \u001b[0;32mfor\u001b[0m \u001b[0mi\u001b[0m \u001b[0;32min\u001b[0m \u001b[0mrange\u001b[0m\u001b[0;34m(\u001b[0m\u001b[0mlen\u001b[0m\u001b[0;34m(\u001b[0m\u001b[0mlayer_sizes\u001b[0m\u001b[0;34m)\u001b[0m\u001b[0;34m-\u001b[0m\u001b[0;36m1\u001b[0m\u001b[0;34m)\u001b[0m\u001b[0;34m:\u001b[0m\u001b[0;34m\u001b[0m\u001b[0;34m\u001b[0m\u001b[0m\n\u001b[1;32m     22\u001b[0m         \u001b[0mweight_shapes\u001b[0m\u001b[0;34m.\u001b[0m\u001b[0mappend\u001b[0m\u001b[0;34m(\u001b[0m\u001b[0;34m(\u001b[0m\u001b[0mlayer_sizes\u001b[0m\u001b[0;34m[\u001b[0m\u001b[0mi\u001b[0m\u001b[0;34m]\u001b[0m\u001b[0;34m,\u001b[0m\u001b[0mlayer_sizes\u001b[0m\u001b[0;34m[\u001b[0m\u001b[0mi\u001b[0m\u001b[0;34m+\u001b[0m\u001b[0;36m1\u001b[0m\u001b[0;34m]\u001b[0m\u001b[0;34m)\u001b[0m\u001b[0;34m)\u001b[0m\u001b[0;34m\u001b[0m\u001b[0;34m\u001b[0m\u001b[0m\n\u001b[0;32m---> 23\u001b[0;31m     \u001b[0mweight_shapes\u001b[0m\u001b[0;34m.\u001b[0m\u001b[0mappend\u001b[0m\u001b[0;34m[\u001b[0m\u001b[0;34m(\u001b[0m\u001b[0mlayer_sizes\u001b[0m\u001b[0;34m[\u001b[0m\u001b[0;34m-\u001b[0m\u001b[0;36m1\u001b[0m\u001b[0;34m]\u001b[0m\u001b[0;34m,\u001b[0m\u001b[0;36m1\u001b[0m\u001b[0;34m)\u001b[0m\u001b[0;34m]\u001b[0m\u001b[0;34m\u001b[0m\u001b[0;34m\u001b[0m\u001b[0m\n\u001b[0m\u001b[1;32m     24\u001b[0m     \u001b[0mshapes\u001b[0m \u001b[0;34m=\u001b[0m \u001b[0mlist\u001b[0m\u001b[0;34m(\u001b[0m\u001b[0mzip\u001b[0m\u001b[0;34m(\u001b[0m\u001b[0mweight_shapes\u001b[0m\u001b[0;34m,\u001b[0m \u001b[0mbias_shapes\u001b[0m\u001b[0;34m)\u001b[0m\u001b[0;34m)\u001b[0m\u001b[0;34m\u001b[0m\u001b[0;34m\u001b[0m\u001b[0m\n\u001b[1;32m     25\u001b[0m     \u001b[0mweights\u001b[0m \u001b[0;34m=\u001b[0m \u001b[0;34m[\u001b[0m\u001b[0minitp\u001b[0m\u001b[0;34m(\u001b[0m\u001b[0mi\u001b[0m\u001b[0;34m)\u001b[0m \u001b[0;32mfor\u001b[0m \u001b[0mi\u001b[0m \u001b[0;32min\u001b[0m \u001b[0mweight_shapes\u001b[0m\u001b[0;34m]\u001b[0m\u001b[0;34m\u001b[0m\u001b[0;34m\u001b[0m\u001b[0m\n",
      "\u001b[0;31mTypeError\u001b[0m: 'builtin_function_or_method' object is not subscriptable"
     ]
    }
   ],
   "source": [
    "import matplotlib.pyplot as plt\n",
    "from icecream import ic\n",
    "from nwork_datasetup import get_labeled_words\n",
    "import pandas as pd\n",
    "import ipdb\n",
    "import tensorflow as tf\n",
    "import numpy as np\n",
    "\n",
    "X,y = get_labeled_words(100)\n",
    "dim = X.shape[1]\n",
    "\n",
    "def softmax(x):\n",
    "    return np.exp(x) / np.sum(np.exp(x), axis=0)\n",
    "\n",
    "def initp(size, variance=1.0):\n",
    "    return tf.Variable(np.double(tf.random.normal(size) * variance))\n",
    "\n",
    "def init_weights(x_shape,layer_sizes):\n",
    "    weight_shapes = [(x_shape,layer_sizes[0])]\n",
    "    bias_shapes = layer_sizes.append(1)\n",
    "    for i in range(len(layer_sizes)-1):\n",
    "        weight_shapes.append((layer_sizes[i],layer_sizes[i+1]))\n",
    "    weight_shapes.append[(layer_sizes[-1],1)]\n",
    "    shapes = list(zip(weight_shapes, bias_shapes))\n",
    "    weights = [initp(i) for i in weight_shapes]\n",
    "    biases = [initp(j) for j in bias_shapes]\n",
    "    return weights,biases\n",
    "\n",
    "def ff(weights, biases,xb):\n",
    "    out = xb\n",
    "    for i in range(len(weights)):\n",
    "        out = out @ weights[i] + bias[i]\n",
    "        out = softmax(out)\n",
    "    return out\n",
    "\n",
    "def loss_func(preds, yb):\n",
    "    return tf.math.reduce_mean((preds-yb)**2)\n",
    "\n",
    "lr = tf.constant(np.double([10E-4]))\n",
    "losses = []\n",
    "layer_shapes = [30,40]\n",
    "x = tf.Variable(X)\n",
    "x_shape = list(x.shape)[1]\n",
    "weights,biases =  init_weights(x_shape,layer_shapes)\n",
    "\n",
    "while(len(losses) == 0 or losses[-1] > 0.1):\n",
    "    with tf.GradientTape() as tape:\n",
    "        preds = ff(weights,biases,x)\n",
    "        loss = loss_func(preds, y)\n",
    "    dW = tape.gradient(loss, weights)\n",
    "    dB = tape.gradient(loss, biases)\n",
    "    losses.append(loss)\n",
    "    for i in range(len(weights)):\n",
    "        weights[i].assign_sub(dW[i])\n",
    "        biases[i].assign_sub(dB[i])\n",
    "    \n",
    "    \n",
    "plt.plot(list(range(len(losses))), losses)\n",
    "plt.ylabel('loss (MSE)')\n",
    "plt.xlabel('steps')\n",
    "plt.show()"
   ]
  },
  {
   "cell_type": "code",
   "execution_count": null,
   "metadata": {},
   "outputs": [],
   "source": []
  }
 ],
 "metadata": {
  "kernelspec": {
   "display_name": "Python 3.7.6 64-bit ('anaconda3': virtualenv)",
   "language": "python",
   "name": "python37664bitanaconda3virtualenv142111621536400ca43d9401876c2147"
  },
  "language_info": {
   "codemirror_mode": {
    "name": "ipython",
    "version": 3
   },
   "file_extension": ".py",
   "mimetype": "text/x-python",
   "name": "python",
   "nbconvert_exporter": "python",
   "pygments_lexer": "ipython3",
   "version": "3.7.6"
  }
 },
 "nbformat": 4,
 "nbformat_minor": 4
}
