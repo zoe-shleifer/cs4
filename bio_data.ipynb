{
 "cells": [
  {
   "cell_type": "code",
   "execution_count": 1,
   "metadata": {},
   "outputs": [],
   "source": [
    "from tqdm import tqdm\n",
    "import numpy as np\n",
    "from requests import get\n",
    "import pandas as pd\n",
    "import seaborn as sns\n",
    "import matplotlib.pyplot as plt\n",
    "from typing import List, Dict\n",
    "from pprint import pprint as pp\n",
    "import datetime"
   ]
  },
  {
   "cell_type": "code",
   "execution_count": 122,
   "metadata": {},
   "outputs": [],
   "source": [
    "def meta_url(datasetID: str,flavor: str = 'json') -> Dict: \n",
    "    meta_url: str = f\"http://www.neracoos.org/erddap/info/{datasetID}/index.{flavor}\"\n",
    "    return get(meta_url).json() \n",
    "def data_url(datasetID: str, flavor: str = 'json') -> Dict:\n",
    "    data_url: str = f\"http://www.neracoos.org/erddap/tabledap/{datasetID}.{flavor}\"\n",
    "    return get(data_url).json() \n",
    "GOM_IDS = [\"A01\"]\n",
    "def make_df(set_name,from_url=True):\n",
    "    set_name = data_url(set_name)\n",
    "    response = set_name['table']\n",
    "    print(response['columnNames'])\n",
    "    new_df = pd.DataFrame(response['rows'], columns = response['columnNames'])\n",
    "    new_df['time'] = pd.to_datetime(new_df['time'])\n",
    "    new_df = new_df.set_index('time')\n",
    "    return new_df[new_df.columns[~new_df.columns.str.contains('_qc')]]"
   ]
  },
  {
   "cell_type": "code",
   "execution_count": 7,
   "metadata": {},
   "outputs": [],
   "source": [
    "META_DATA: Dict = data_url('allDatasets')\n",
    "meta_0: pd.DataFrame = pd.DataFrame(META_DATA['table']['rows'],columns=META_DATA['table']['columnNames'])"
   ]
  },
  {
   "cell_type": "code",
   "execution_count": 8,
   "metadata": {},
   "outputs": [],
   "source": [
    "meta = meta_0.loc[meta_0['title'].str.contains('|'.join(GOM_IDS))].set_index('datasetID')"
   ]
  },
  {
   "cell_type": "code",
   "execution_count": 9,
   "metadata": {},
   "outputs": [
    {
     "data": {
      "text/plain": [
       "Index(['accessible', 'institution', 'dataStructure', 'cdm_data_type', 'class',\n",
       "       'title', 'minLongitude', 'maxLongitude', 'longitudeSpacing',\n",
       "       'minLatitude', 'maxLatitude', 'latitudeSpacing', 'minAltitude',\n",
       "       'maxAltitude', 'minTime', 'maxTime', 'timeSpacing', 'griddap', 'subset',\n",
       "       'tabledap', 'MakeAGraph', 'sos', 'wcs', 'wms', 'files', 'fgdc',\n",
       "       'iso19115', 'metadata', 'sourceUrl', 'infoUrl', 'rss', 'email',\n",
       "       'testOutOfDate', 'outOfDate', 'summary'],\n",
       "      dtype='object')"
      ]
     },
     "execution_count": 9,
     "metadata": {},
     "output_type": "execute_result"
    }
   ],
   "source": [
    "meta.columns"
   ]
  },
  {
   "cell_type": "code",
   "execution_count": 10,
   "metadata": {},
   "outputs": [
    {
     "data": {
      "text/plain": [
       "['A01_aanderaa_o2_all',\n",
       " 'A01_accelerometer_all',\n",
       " 'A01_waves_mstrain_all',\n",
       " 'A01_met_all',\n",
       " 'A01_optics_s_all',\n",
       " 'A01_optode_all',\n",
       " 'A01_doppler_rt',\n",
       " 'A01_sbe16_disox_all',\n",
       " 'A01_sbe37_all']"
      ]
     },
     "execution_count": 10,
     "metadata": {},
     "output_type": "execute_result"
    }
   ],
   "source": [
    "active_datasets = list(meta[meta['maxTime'].str.contains('2020')].index)\n",
    "active_datasets"
   ]
  },
  {
   "cell_type": "code",
   "execution_count": null,
   "metadata": {},
   "outputs": [],
   "source": []
  },
  {
   "cell_type": "code",
   "execution_count": null,
   "metadata": {},
   "outputs": [],
   "source": []
  },
  {
   "cell_type": "code",
   "execution_count": 123,
   "metadata": {},
   "outputs": [
    {
     "name": "stdout",
     "output_type": "stream",
     "text": [
      "['station', 'mooring_site_desc', 'time', 'chlorophyll', 'chlorophyll_qc', 'turbidity', 'turbidity_qc', 'longitude', 'latitude', 'depth']\n",
      "['station', 'time', 'mooring_site_desc', 'conductivity', 'conductivity_qc', 'temperature', 'temperature_qc', 'salinity', 'salinity_qc', 'sigma_t', 'sigma_t_qc', 'longitude', 'latitude', 'depth']\n",
      "['station', 'time', 'mooring_site_desc', 'dissolved_oxygen', 'dissolved_oxygen_qc', 'oxygen_saturation', 'oxygen_saturation_qc', 'percent_oxygen_saturation', 'percent_oxygen_saturation_qc', 'conductivity', 'conductivity_qc', 'temperature', 'temperature_qc', 'salinity', 'salinity_qc', 'sigma_t', 'sigma_t_qc', 'longitude', 'latitude', 'depth']\n"
     ]
    }
   ],
   "source": [
    "df = make_df('A01_optics_s_all')\n",
    "sal_temp = make_df('A01_sbe37_all')[['salinity','temperature','depth']]\n",
    "sal_df = make_df('A01_sbe16_disox_all')"
   ]
  },
  {
   "cell_type": "code",
   "execution_count": 119,
   "metadata": {},
   "outputs": [],
   "source": [
    "big_df = df.join(sal_temp,rsuffix = '1',how='outer')"
   ]
  },
  {
   "cell_type": "code",
   "execution_count": 136,
   "metadata": {},
   "outputs": [
    {
     "data": {
      "text/plain": [
       "DatetimeIndex(['2001-07-10 04:00:01+00:00', '2001-07-10 04:34:00+00:00',\n",
       "               '2001-07-10 05:00:01+00:00', '2001-07-10 05:34:00+00:00',\n",
       "               '2001-07-10 06:00:01+00:00', '2001-07-10 06:34:00+00:00',\n",
       "               '2001-07-10 07:00:01+00:00', '2001-07-10 07:34:00+00:00',\n",
       "               '2001-07-10 08:00:01+00:00', '2001-07-10 08:34:00+00:00',\n",
       "               ...\n",
       "               '2020-10-19 17:00:00+00:00', '2020-10-19 17:30:00+00:00',\n",
       "               '2020-10-19 18:00:00+00:00', '2020-10-19 18:00:00+00:00',\n",
       "               '2020-10-19 18:30:00+00:00', '2020-10-19 19:00:00+00:00',\n",
       "               '2020-10-19 19:00:00+00:00', '2020-10-19 19:30:00+00:00',\n",
       "               '2020-10-19 20:00:00+00:00', '2020-10-19 20:00:00+00:00'],\n",
       "              dtype='datetime64[ns, UTC]', name='time', length=525020, freq=None)"
      ]
     },
     "execution_count": 136,
     "metadata": {},
     "output_type": "execute_result"
    }
   ],
   "source": [
    "big_df.index"
   ]
  },
  {
   "cell_type": "code",
   "execution_count": 171,
   "metadata": {},
   "outputs": [],
   "source": [
    "day_df = big_df.resample(\"D\").median()\n",
    "day_df['curr'] = currents['current_speed'].resample(\"D\").median()\n",
    "day_df['oxy'] = currents['percent_oxygen_saturation'].resample(\"D\").median()/10"
   ]
  },
  {
   "cell_type": "code",
   "execution_count": 184,
   "metadata": {},
   "outputs": [
    {
     "data": {
      "text/plain": [
       "<matplotlib.legend.Legend at 0x7fa99ef893d0>"
      ]
     },
     "execution_count": 184,
     "metadata": {},
     "output_type": "execute_result"
    },
    {
     "data": {
      "image/png": "[encoded data removed]",
      "text/plain": [
       "<Figure size 1080x360 with 1 Axes>"
      ]
     },
     "metadata": {
      "needs_background": "light"
     },
     "output_type": "display_data"
    }
   ],
   "source": [
    "dr = ['2009-01-01','2010-01-01']\n",
    "fig, ax = plt.subplots(1,1,figsize=(15, 5))\n",
    "day_df[['chlorophyll','salinity']].loc[dr[0]:dr[1]].resample(\"D\").mean().plot(style=\"-\",ax=ax)\n",
    "day_df[['temperature']].loc[dr[0]:dr[1]].resample(\"D\").mean().plot(style=\"-\",ax=ax)\n",
    "plt.legend(loc = 'upper right')"
   ]
  },
  {
   "cell_type": "code",
   "execution_count": 127,
   "metadata": {},
   "outputs": [
    {
     "name": "stdout",
     "output_type": "stream",
     "text": [
      "['station', 'mooring_site_desc', 'water_depth', 'time', 'longitude', 'latitude', 'depth', 'current_speed', 'current_speed_qc', 'current_direction', 'current_direction_qc', 'current_u', 'current_u_qc', 'current_v', 'current_v_qc', 'temperature', 'temperature_qc', 'dissolved_oxygen', 'dissolved_oxygen_qc', 'percent_oxygen_saturation', 'percent_oxygen_saturation_qc', 'time_created', 'time_modified']\n"
     ]
    }
   ],
   "source": [
    "currents = make_df('A01_aanderaa_o2_all')"
   ]
  },
  {
   "cell_type": "code",
   "execution_count": 130,
   "metadata": {},
   "outputs": [
    {
     "data": {
      "text/plain": [
       "time\n",
       "2001-07-10 03:00:00+00:00    24.0506\n",
       "2001-07-10 04:00:00+00:00    17.8913\n",
       "2001-07-10 05:00:00+00:00     9.6789\n",
       "2001-07-10 06:00:00+00:00     3.5196\n",
       "2001-07-10 07:00:00+00:00    12.6119\n",
       "                              ...   \n",
       "2020-10-19 17:00:00+00:00    16.8915\n",
       "2020-10-19 18:00:00+00:00    16.6733\n",
       "2020-10-19 19:00:00+00:00    16.7884\n",
       "2020-10-19 20:00:00+00:00    17.3363\n",
       "2020-10-19 21:00:00+00:00    15.3853\n",
       "Name: current_speed, Length: 146167, dtype: float64"
      ]
     },
     "execution_count": 130,
     "metadata": {},
     "output_type": "execute_result"
    }
   ],
   "source": [
    "currents['current_speed']"
   ]
  },
  {
   "cell_type": "code",
   "execution_count": 78,
   "metadata": {},
   "outputs": [
    {
     "data": {
      "text/plain": [
       "<matplotlib.axes._subplots.AxesSubplot at 0x7fab781bdc90>"
      ]
     },
     "execution_count": 78,
     "metadata": {},
     "output_type": "execute_result"
    },
    {
     "data": {
      "image/png": "[encoded data removed]",
      "text/plain": [
       "<Figure size 432x288 with 1 Axes>"
      ]
     },
     "metadata": {
      "needs_background": "light"
     },
     "output_type": "display_data"
    }
   ],
   "source": [
    "big_df[['depth1','temperature']].loc['2020-10-19'].plot()\n",
    "big_df['temp_20'] = "
   ]
  },
  {
   "cell_type": "code",
   "execution_count": null,
   "metadata": {},
   "outputs": [],
   "source": []
  },
  {
   "cell_type": "code",
   "execution_count": null,
   "metadata": {},
   "outputs": [],
   "source": []
  },
  {
   "cell_type": "code",
   "execution_count": null,
   "metadata": {},
   "outputs": [],
   "source": []
  },
  {
   "cell_type": "code",
   "execution_count": 93,
   "metadata": {},
   "outputs": [
    {
     "data": {
      "image/png": "[encoded data removed]",
      "text/plain": [
       "<Figure size 864x360 with 1 Axes>"
      ]
     },
     "metadata": {
      "needs_background": "light"
     },
     "output_type": "display_data"
    }
   ],
   "source": [
    "dr = ['2014-01-01','2018-08-01']\n",
    "sal_df[['temperature','salinity']].loc[dr[0]:dr[1]].resample(\"M\").mean().plot(style=\"--\", figsize=(12, 5));"
   ]
  },
  {
   "cell_type": "code",
   "execution_count": 101,
   "metadata": {},
   "outputs": [
    {
     "data": {
      "text/html": [
       "<div>\n",
       "<style scoped>\n",
       "    .dataframe tbody tr th:only-of-type {\n",
       "        vertical-align: middle;\n",
       "    }\n",
       "\n",
       "    .dataframe tbody tr th {\n",
       "        vertical-align: top;\n",
       "    }\n",
       "\n",
       "    .dataframe thead th {\n",
       "        text-align: right;\n",
       "    }\n",
       "</style>\n",
       "<table border=\"1\" class=\"dataframe\">\n",
       "  <thead>\n",
       "    <tr style=\"text-align: right;\">\n",
       "      <th></th>\n",
       "      <th>station</th>\n",
       "      <th>mooring_site_desc</th>\n",
       "      <th>dissolved_oxygen</th>\n",
       "      <th>oxygen_saturation</th>\n",
       "      <th>percent_oxygen_saturation</th>\n",
       "      <th>conductivity</th>\n",
       "      <th>temperature</th>\n",
       "      <th>salinity</th>\n",
       "      <th>sigma_t</th>\n",
       "      <th>longitude</th>\n",
       "      <th>latitude</th>\n",
       "      <th>depth</th>\n",
       "    </tr>\n",
       "    <tr>\n",
       "      <th>time</th>\n",
       "      <th></th>\n",
       "      <th></th>\n",
       "      <th></th>\n",
       "      <th></th>\n",
       "      <th></th>\n",
       "      <th></th>\n",
       "      <th></th>\n",
       "      <th></th>\n",
       "      <th></th>\n",
       "      <th></th>\n",
       "      <th></th>\n",
       "      <th></th>\n",
       "    </tr>\n",
       "  </thead>\n",
       "  <tbody>\n",
       "    <tr>\n",
       "      <th>2014-06-04 01:00:00+00:00</th>\n",
       "      <td>A01</td>\n",
       "      <td>Massachusetts Bay</td>\n",
       "      <td>6.310979</td>\n",
       "      <td>7.221090</td>\n",
       "      <td>87.396484</td>\n",
       "      <td>30.940</td>\n",
       "      <td>5.034</td>\n",
       "      <td>32.039690</td>\n",
       "      <td>25.32537</td>\n",
       "      <td>-70.5655</td>\n",
       "      <td>42.5232</td>\n",
       "      <td>50.0</td>\n",
       "    </tr>\n",
       "    <tr>\n",
       "      <th>2014-06-04 02:00:00+00:00</th>\n",
       "      <td>A01</td>\n",
       "      <td>Massachusetts Bay</td>\n",
       "      <td>6.291374</td>\n",
       "      <td>7.231754</td>\n",
       "      <td>86.996506</td>\n",
       "      <td>30.894</td>\n",
       "      <td>4.971</td>\n",
       "      <td>32.047530</td>\n",
       "      <td>25.33845</td>\n",
       "      <td>-70.5655</td>\n",
       "      <td>42.5232</td>\n",
       "      <td>50.0</td>\n",
       "    </tr>\n",
       "    <tr>\n",
       "      <th>2014-06-04 03:00:00+00:00</th>\n",
       "      <td>A01</td>\n",
       "      <td>Massachusetts Bay</td>\n",
       "      <td>6.265983</td>\n",
       "      <td>7.228348</td>\n",
       "      <td>86.686240</td>\n",
       "      <td>30.935</td>\n",
       "      <td>4.980</td>\n",
       "      <td>32.085915</td>\n",
       "      <td>25.36788</td>\n",
       "      <td>-70.5655</td>\n",
       "      <td>42.5232</td>\n",
       "      <td>50.0</td>\n",
       "    </tr>\n",
       "    <tr>\n",
       "      <th>2014-06-04 04:00:00+00:00</th>\n",
       "      <td>A01</td>\n",
       "      <td>Massachusetts Bay</td>\n",
       "      <td>6.249856</td>\n",
       "      <td>7.219080</td>\n",
       "      <td>86.574135</td>\n",
       "      <td>30.984</td>\n",
       "      <td>5.031</td>\n",
       "      <td>32.092990</td>\n",
       "      <td>25.36792</td>\n",
       "      <td>-70.5655</td>\n",
       "      <td>42.5232</td>\n",
       "      <td>50.0</td>\n",
       "    </tr>\n",
       "    <tr>\n",
       "      <th>2014-06-04 05:00:00+00:00</th>\n",
       "      <td>A01</td>\n",
       "      <td>Massachusetts Bay</td>\n",
       "      <td>6.296538</td>\n",
       "      <td>7.209544</td>\n",
       "      <td>87.336150</td>\n",
       "      <td>31.036</td>\n",
       "      <td>5.083</td>\n",
       "      <td>32.102493</td>\n",
       "      <td>25.36974</td>\n",
       "      <td>-70.5655</td>\n",
       "      <td>42.5232</td>\n",
       "      <td>50.0</td>\n",
       "    </tr>\n",
       "    <tr>\n",
       "      <th>...</th>\n",
       "      <td>...</td>\n",
       "      <td>...</td>\n",
       "      <td>...</td>\n",
       "      <td>...</td>\n",
       "      <td>...</td>\n",
       "      <td>...</td>\n",
       "      <td>...</td>\n",
       "      <td>...</td>\n",
       "      <td>...</td>\n",
       "      <td>...</td>\n",
       "      <td>...</td>\n",
       "      <td>...</td>\n",
       "    </tr>\n",
       "    <tr>\n",
       "      <th>2014-10-25 13:00:00+00:00</th>\n",
       "      <td>A01</td>\n",
       "      <td>Massachusetts Bay</td>\n",
       "      <td>NaN</td>\n",
       "      <td>NaN</td>\n",
       "      <td>NaN</td>\n",
       "      <td>NaN</td>\n",
       "      <td>NaN</td>\n",
       "      <td>NaN</td>\n",
       "      <td>NaN</td>\n",
       "      <td>-70.5655</td>\n",
       "      <td>42.5232</td>\n",
       "      <td>50.0</td>\n",
       "    </tr>\n",
       "    <tr>\n",
       "      <th>2014-10-25 14:00:00+00:00</th>\n",
       "      <td>A01</td>\n",
       "      <td>Massachusetts Bay</td>\n",
       "      <td>NaN</td>\n",
       "      <td>NaN</td>\n",
       "      <td>NaN</td>\n",
       "      <td>NaN</td>\n",
       "      <td>NaN</td>\n",
       "      <td>NaN</td>\n",
       "      <td>NaN</td>\n",
       "      <td>-70.5655</td>\n",
       "      <td>42.5232</td>\n",
       "      <td>50.0</td>\n",
       "    </tr>\n",
       "    <tr>\n",
       "      <th>2014-10-25 15:00:00+00:00</th>\n",
       "      <td>A01</td>\n",
       "      <td>Massachusetts Bay</td>\n",
       "      <td>NaN</td>\n",
       "      <td>NaN</td>\n",
       "      <td>NaN</td>\n",
       "      <td>NaN</td>\n",
       "      <td>NaN</td>\n",
       "      <td>NaN</td>\n",
       "      <td>NaN</td>\n",
       "      <td>-70.5655</td>\n",
       "      <td>42.5232</td>\n",
       "      <td>50.0</td>\n",
       "    </tr>\n",
       "    <tr>\n",
       "      <th>2014-10-25 16:00:00+00:00</th>\n",
       "      <td>A01</td>\n",
       "      <td>Massachusetts Bay</td>\n",
       "      <td>NaN</td>\n",
       "      <td>NaN</td>\n",
       "      <td>NaN</td>\n",
       "      <td>NaN</td>\n",
       "      <td>NaN</td>\n",
       "      <td>NaN</td>\n",
       "      <td>NaN</td>\n",
       "      <td>-70.5655</td>\n",
       "      <td>42.5232</td>\n",
       "      <td>50.0</td>\n",
       "    </tr>\n",
       "    <tr>\n",
       "      <th>2014-10-25 17:00:00+00:00</th>\n",
       "      <td>A01</td>\n",
       "      <td>Massachusetts Bay</td>\n",
       "      <td>NaN</td>\n",
       "      <td>NaN</td>\n",
       "      <td>NaN</td>\n",
       "      <td>NaN</td>\n",
       "      <td>NaN</td>\n",
       "      <td>NaN</td>\n",
       "      <td>NaN</td>\n",
       "      <td>-70.5655</td>\n",
       "      <td>42.5232</td>\n",
       "      <td>50.0</td>\n",
       "    </tr>\n",
       "  </tbody>\n",
       "</table>\n",
       "<p>3394 rows × 12 columns</p>\n",
       "</div>"
      ],
      "text/plain": [
       "                          station  mooring_site_desc  dissolved_oxygen  \\\n",
       "time                                                                     \n",
       "2014-06-04 01:00:00+00:00     A01  Massachusetts Bay          6.310979   \n",
       "2014-06-04 02:00:00+00:00     A01  Massachusetts Bay          6.291374   \n",
       "2014-06-04 03:00:00+00:00     A01  Massachusetts Bay          6.265983   \n",
       "2014-06-04 04:00:00+00:00     A01  Massachusetts Bay          6.249856   \n",
       "2014-06-04 05:00:00+00:00     A01  Massachusetts Bay          6.296538   \n",
       "...                           ...                ...               ...   \n",
       "2014-10-25 13:00:00+00:00     A01  Massachusetts Bay               NaN   \n",
       "2014-10-25 14:00:00+00:00     A01  Massachusetts Bay               NaN   \n",
       "2014-10-25 15:00:00+00:00     A01  Massachusetts Bay               NaN   \n",
       "2014-10-25 16:00:00+00:00     A01  Massachusetts Bay               NaN   \n",
       "2014-10-25 17:00:00+00:00     A01  Massachusetts Bay               NaN   \n",
       "\n",
       "                           oxygen_saturation  percent_oxygen_saturation  \\\n",
       "time                                                                      \n",
       "2014-06-04 01:00:00+00:00           7.221090                  87.396484   \n",
       "2014-06-04 02:00:00+00:00           7.231754                  86.996506   \n",
       "2014-06-04 03:00:00+00:00           7.228348                  86.686240   \n",
       "2014-06-04 04:00:00+00:00           7.219080                  86.574135   \n",
       "2014-06-04 05:00:00+00:00           7.209544                  87.336150   \n",
       "...                                      ...                        ...   \n",
       "2014-10-25 13:00:00+00:00                NaN                        NaN   \n",
       "2014-10-25 14:00:00+00:00                NaN                        NaN   \n",
       "2014-10-25 15:00:00+00:00                NaN                        NaN   \n",
       "2014-10-25 16:00:00+00:00                NaN                        NaN   \n",
       "2014-10-25 17:00:00+00:00                NaN                        NaN   \n",
       "\n",
       "                           conductivity  temperature   salinity   sigma_t  \\\n",
       "time                                                                        \n",
       "2014-06-04 01:00:00+00:00        30.940        5.034  32.039690  25.32537   \n",
       "2014-06-04 02:00:00+00:00        30.894        4.971  32.047530  25.33845   \n",
       "2014-06-04 03:00:00+00:00        30.935        4.980  32.085915  25.36788   \n",
       "2014-06-04 04:00:00+00:00        30.984        5.031  32.092990  25.36792   \n",
       "2014-06-04 05:00:00+00:00        31.036        5.083  32.102493  25.36974   \n",
       "...                                 ...          ...        ...       ...   \n",
       "2014-10-25 13:00:00+00:00           NaN          NaN        NaN       NaN   \n",
       "2014-10-25 14:00:00+00:00           NaN          NaN        NaN       NaN   \n",
       "2014-10-25 15:00:00+00:00           NaN          NaN        NaN       NaN   \n",
       "2014-10-25 16:00:00+00:00           NaN          NaN        NaN       NaN   \n",
       "2014-10-25 17:00:00+00:00           NaN          NaN        NaN       NaN   \n",
       "\n",
       "                           longitude  latitude  depth  \n",
       "time                                                   \n",
       "2014-06-04 01:00:00+00:00   -70.5655   42.5232   50.0  \n",
       "2014-06-04 02:00:00+00:00   -70.5655   42.5232   50.0  \n",
       "2014-06-04 03:00:00+00:00   -70.5655   42.5232   50.0  \n",
       "2014-06-04 04:00:00+00:00   -70.5655   42.5232   50.0  \n",
       "2014-06-04 05:00:00+00:00   -70.5655   42.5232   50.0  \n",
       "...                              ...       ...    ...  \n",
       "2014-10-25 13:00:00+00:00   -70.5655   42.5232   50.0  \n",
       "2014-10-25 14:00:00+00:00   -70.5655   42.5232   50.0  \n",
       "2014-10-25 15:00:00+00:00   -70.5655   42.5232   50.0  \n",
       "2014-10-25 16:00:00+00:00   -70.5655   42.5232   50.0  \n",
       "2014-10-25 17:00:00+00:00   -70.5655   42.5232   50.0  \n",
       "\n",
       "[3394 rows x 12 columns]"
      ]
     },
     "execution_count": 101,
     "metadata": {},
     "output_type": "execute_result"
    }
   ],
   "source": [
    "sal_df['2014']"
   ]
  },
  {
   "cell_type": "code",
   "execution_count": 235,
   "metadata": {},
   "outputs": [
    {
     "ename": "TypeError",
     "evalue": "Only valid with DatetimeIndex, TimedeltaIndex or PeriodIndex, but got an instance of 'RangeIndex'",
     "output_type": "error",
     "traceback": [
      "\u001b[0;31m---------------------------------------------------------------------------\u001b[0m",
      "\u001b[0;31mTypeError\u001b[0m                                 Traceback (most recent call last)",
      "\u001b[0;32m<ipython-input-235-c521be9e4754>\u001b[0m in \u001b[0;36m<module>\u001b[0;34m\u001b[0m\n\u001b[0;32m----> 1\u001b[0;31m \u001b[0mfinal_df\u001b[0m\u001b[0;34m.\u001b[0m\u001b[0mresample\u001b[0m\u001b[0;34m(\u001b[0m\u001b[0;34m\"W\"\u001b[0m\u001b[0;34m)\u001b[0m\u001b[0;34m.\u001b[0m\u001b[0mmean\u001b[0m\u001b[0;34m(\u001b[0m\u001b[0;34m)\u001b[0m\u001b[0;34m.\u001b[0m\u001b[0mplot\u001b[0m\u001b[0;34m(\u001b[0m\u001b[0mstyle\u001b[0m\u001b[0;34m=\u001b[0m\u001b[0;34m\"--\"\u001b[0m\u001b[0;34m,\u001b[0m \u001b[0mfigsize\u001b[0m\u001b[0;34m=\u001b[0m\u001b[0;34m(\u001b[0m\u001b[0;36m12\u001b[0m\u001b[0;34m,\u001b[0m \u001b[0;36m5\u001b[0m\u001b[0;34m)\u001b[0m\u001b[0;34m)\u001b[0m\u001b[0;34m;\u001b[0m\u001b[0;34m\u001b[0m\u001b[0;34m\u001b[0m\u001b[0m\n\u001b[0m",
      "\u001b[0;32m~/anaconda3/lib/python3.7/site-packages/pandas/core/generic.py\u001b[0m in \u001b[0;36mresample\u001b[0;34m(self, rule, axis, closed, label, convention, kind, loffset, base, on, level)\u001b[0m\n\u001b[1;32m   8113\u001b[0m             \u001b[0mbase\u001b[0m\u001b[0;34m=\u001b[0m\u001b[0mbase\u001b[0m\u001b[0;34m,\u001b[0m\u001b[0;34m\u001b[0m\u001b[0;34m\u001b[0m\u001b[0m\n\u001b[1;32m   8114\u001b[0m             \u001b[0mkey\u001b[0m\u001b[0;34m=\u001b[0m\u001b[0mon\u001b[0m\u001b[0;34m,\u001b[0m\u001b[0;34m\u001b[0m\u001b[0;34m\u001b[0m\u001b[0m\n\u001b[0;32m-> 8115\u001b[0;31m             \u001b[0mlevel\u001b[0m\u001b[0;34m=\u001b[0m\u001b[0mlevel\u001b[0m\u001b[0;34m,\u001b[0m\u001b[0;34m\u001b[0m\u001b[0;34m\u001b[0m\u001b[0m\n\u001b[0m\u001b[1;32m   8116\u001b[0m         )\n\u001b[1;32m   8117\u001b[0m \u001b[0;34m\u001b[0m\u001b[0m\n",
      "\u001b[0;32m~/anaconda3/lib/python3.7/site-packages/pandas/core/resample.py\u001b[0m in \u001b[0;36mresample\u001b[0;34m(obj, kind, **kwds)\u001b[0m\n\u001b[1;32m   1268\u001b[0m     \"\"\"\n\u001b[1;32m   1269\u001b[0m     \u001b[0mtg\u001b[0m \u001b[0;34m=\u001b[0m \u001b[0mTimeGrouper\u001b[0m\u001b[0;34m(\u001b[0m\u001b[0;34m**\u001b[0m\u001b[0mkwds\u001b[0m\u001b[0;34m)\u001b[0m\u001b[0;34m\u001b[0m\u001b[0;34m\u001b[0m\u001b[0m\n\u001b[0;32m-> 1270\u001b[0;31m     \u001b[0;32mreturn\u001b[0m \u001b[0mtg\u001b[0m\u001b[0;34m.\u001b[0m\u001b[0m_get_resampler\u001b[0m\u001b[0;34m(\u001b[0m\u001b[0mobj\u001b[0m\u001b[0;34m,\u001b[0m \u001b[0mkind\u001b[0m\u001b[0;34m=\u001b[0m\u001b[0mkind\u001b[0m\u001b[0;34m)\u001b[0m\u001b[0;34m\u001b[0m\u001b[0;34m\u001b[0m\u001b[0m\n\u001b[0m\u001b[1;32m   1271\u001b[0m \u001b[0;34m\u001b[0m\u001b[0m\n\u001b[1;32m   1272\u001b[0m \u001b[0;34m\u001b[0m\u001b[0m\n",
      "\u001b[0;32m~/anaconda3/lib/python3.7/site-packages/pandas/core/resample.py\u001b[0m in \u001b[0;36m_get_resampler\u001b[0;34m(self, obj, kind)\u001b[0m\n\u001b[1;32m   1402\u001b[0m \u001b[0;34m\u001b[0m\u001b[0m\n\u001b[1;32m   1403\u001b[0m         raise TypeError(\n\u001b[0;32m-> 1404\u001b[0;31m             \u001b[0;34m\"Only valid with DatetimeIndex, \"\u001b[0m\u001b[0;34m\u001b[0m\u001b[0;34m\u001b[0m\u001b[0m\n\u001b[0m\u001b[1;32m   1405\u001b[0m             \u001b[0;34m\"TimedeltaIndex or PeriodIndex, \"\u001b[0m\u001b[0;34m\u001b[0m\u001b[0;34m\u001b[0m\u001b[0m\n\u001b[1;32m   1406\u001b[0m             \u001b[0;34mf\"but got an instance of '{type(ax).__name__}'\"\u001b[0m\u001b[0;34m\u001b[0m\u001b[0;34m\u001b[0m\u001b[0m\n",
      "\u001b[0;31mTypeError\u001b[0m: Only valid with DatetimeIndex, TimedeltaIndex or PeriodIndex, but got an instance of 'RangeIndex'"
     ]
    }
   ],
   "source": [
    "final_df.resample(\"W\").mean().plot(style=\"--\", figsize=(12, 5));"
   ]
  },
  {
   "cell_type": "code",
   "execution_count": 234,
   "metadata": {},
   "outputs": [
    {
     "data": {
      "text/html": [
       "<div>\n",
       "<style scoped>\n",
       "    .dataframe tbody tr th:only-of-type {\n",
       "        vertical-align: middle;\n",
       "    }\n",
       "\n",
       "    .dataframe tbody tr th {\n",
       "        vertical-align: top;\n",
       "    }\n",
       "\n",
       "    .dataframe thead th {\n",
       "        text-align: right;\n",
       "    }\n",
       "</style>\n",
       "<table border=\"1\" class=\"dataframe\">\n",
       "  <thead>\n",
       "    <tr style=\"text-align: right;\">\n",
       "      <th></th>\n",
       "      <th>den_20</th>\n",
       "      <th>den_50</th>\n",
       "      <th>sal_1</th>\n",
       "      <th>sal_20</th>\n",
       "      <th>sal_50</th>\n",
       "      <th>temp</th>\n",
       "      <th>time</th>\n",
       "    </tr>\n",
       "  </thead>\n",
       "  <tbody>\n",
       "    <tr>\n",
       "      <th>0</th>\n",
       "      <td>NaN</td>\n",
       "      <td>NaN</td>\n",
       "      <td>NaN</td>\n",
       "      <td>NaN</td>\n",
       "      <td>NaN</td>\n",
       "      <td>NaN</td>\n",
       "      <td>2009-01-01 00:00:00+00:00</td>\n",
       "    </tr>\n",
       "    <tr>\n",
       "      <th>1</th>\n",
       "      <td>NaN</td>\n",
       "      <td>NaN</td>\n",
       "      <td>NaN</td>\n",
       "      <td>NaN</td>\n",
       "      <td>NaN</td>\n",
       "      <td>NaN</td>\n",
       "      <td>2009-01-01 00:03:00+00:00</td>\n",
       "    </tr>\n",
       "    <tr>\n",
       "      <th>2</th>\n",
       "      <td>NaN</td>\n",
       "      <td>NaN</td>\n",
       "      <td>NaN</td>\n",
       "      <td>NaN</td>\n",
       "      <td>NaN</td>\n",
       "      <td>NaN</td>\n",
       "      <td>2009-01-01 00:06:00+00:00</td>\n",
       "    </tr>\n",
       "    <tr>\n",
       "      <th>3</th>\n",
       "      <td>NaN</td>\n",
       "      <td>NaN</td>\n",
       "      <td>NaN</td>\n",
       "      <td>NaN</td>\n",
       "      <td>NaN</td>\n",
       "      <td>NaN</td>\n",
       "      <td>2009-01-01 00:09:00+00:00</td>\n",
       "    </tr>\n",
       "    <tr>\n",
       "      <th>4</th>\n",
       "      <td>NaN</td>\n",
       "      <td>NaN</td>\n",
       "      <td>NaN</td>\n",
       "      <td>NaN</td>\n",
       "      <td>NaN</td>\n",
       "      <td>NaN</td>\n",
       "      <td>2009-01-01 00:10:00+00:00</td>\n",
       "    </tr>\n",
       "    <tr>\n",
       "      <th>...</th>\n",
       "      <td>...</td>\n",
       "      <td>...</td>\n",
       "      <td>...</td>\n",
       "      <td>...</td>\n",
       "      <td>...</td>\n",
       "      <td>...</td>\n",
       "      <td>...</td>\n",
       "    </tr>\n",
       "    <tr>\n",
       "      <th>82012</th>\n",
       "      <td>NaN</td>\n",
       "      <td>NaN</td>\n",
       "      <td>NaN</td>\n",
       "      <td>NaN</td>\n",
       "      <td>NaN</td>\n",
       "      <td>NaN</td>\n",
       "      <td>2009-11-30 23:20:00+00:00</td>\n",
       "    </tr>\n",
       "    <tr>\n",
       "      <th>82013</th>\n",
       "      <td>NaN</td>\n",
       "      <td>NaN</td>\n",
       "      <td>NaN</td>\n",
       "      <td>NaN</td>\n",
       "      <td>NaN</td>\n",
       "      <td>NaN</td>\n",
       "      <td>2009-11-30 23:30:00+00:00</td>\n",
       "    </tr>\n",
       "    <tr>\n",
       "      <th>82014</th>\n",
       "      <td>NaN</td>\n",
       "      <td>NaN</td>\n",
       "      <td>NaN</td>\n",
       "      <td>NaN</td>\n",
       "      <td>NaN</td>\n",
       "      <td>NaN</td>\n",
       "      <td>2009-11-30 23:40:00+00:00</td>\n",
       "    </tr>\n",
       "    <tr>\n",
       "      <th>82015</th>\n",
       "      <td>NaN</td>\n",
       "      <td>NaN</td>\n",
       "      <td>NaN</td>\n",
       "      <td>NaN</td>\n",
       "      <td>NaN</td>\n",
       "      <td>NaN</td>\n",
       "      <td>2009-11-30 23:50:00+00:00</td>\n",
       "    </tr>\n",
       "    <tr>\n",
       "      <th>82016</th>\n",
       "      <td>NaN</td>\n",
       "      <td>NaN</td>\n",
       "      <td>NaN</td>\n",
       "      <td>NaN</td>\n",
       "      <td>NaN</td>\n",
       "      <td>NaN</td>\n",
       "      <td>2009-12-01 00:00:00+00:00</td>\n",
       "    </tr>\n",
       "  </tbody>\n",
       "</table>\n",
       "<p>82017 rows × 7 columns</p>\n",
       "</div>"
      ],
      "text/plain": [
       "       den_20  den_50  sal_1  sal_20  sal_50  temp                      time\n",
       "0         NaN     NaN    NaN     NaN     NaN   NaN 2009-01-01 00:00:00+00:00\n",
       "1         NaN     NaN    NaN     NaN     NaN   NaN 2009-01-01 00:03:00+00:00\n",
       "2         NaN     NaN    NaN     NaN     NaN   NaN 2009-01-01 00:06:00+00:00\n",
       "3         NaN     NaN    NaN     NaN     NaN   NaN 2009-01-01 00:09:00+00:00\n",
       "4         NaN     NaN    NaN     NaN     NaN   NaN 2009-01-01 00:10:00+00:00\n",
       "...       ...     ...    ...     ...     ...   ...                       ...\n",
       "82012     NaN     NaN    NaN     NaN     NaN   NaN 2009-11-30 23:20:00+00:00\n",
       "82013     NaN     NaN    NaN     NaN     NaN   NaN 2009-11-30 23:30:00+00:00\n",
       "82014     NaN     NaN    NaN     NaN     NaN   NaN 2009-11-30 23:40:00+00:00\n",
       "82015     NaN     NaN    NaN     NaN     NaN   NaN 2009-11-30 23:50:00+00:00\n",
       "82016     NaN     NaN    NaN     NaN     NaN   NaN 2009-12-01 00:00:00+00:00\n",
       "\n",
       "[82017 rows x 7 columns]"
      ]
     },
     "execution_count": 234,
     "metadata": {},
     "output_type": "execute_result"
    }
   ],
   "source": [
    "final_df"
   ]
  },
  {
   "cell_type": "code",
   "execution_count": 237,
   "metadata": {},
   "outputs": [],
   "source": [
    "final_df = pd.DataFrame(raw_data,columns = ['den_20','den_50','sal_1','sal_20','sal_50','temp'])\n",
    "final_df['time'] = pd.to_datetime(raw_data['Time-UTC'])\n",
    "final_df = final_df.set_index('time')"
   ]
  },
  {
   "cell_type": "code",
   "execution_count": 230,
   "metadata": {},
   "outputs": [
    {
     "name": "stderr",
     "output_type": "stream",
     "text": [
      "/Users/zoeshleifer/anaconda3/lib/python3.7/site-packages/IPython/core/interactiveshell.py:3072: DtypeWarning: Columns (1) have mixed types.Specify dtype option on import or set low_memory=False.\n",
      "  interactivity=interactivity, compiler=compiler, result=result)\n"
     ]
    }
   ],
   "source": [
    "raw_data = pd.read_csv('/Users/zoeshleifer/bouy_data.csv')\n",
    "chloro_daily = raw_data.tail(335)[['A011m-Hourly-Density_kg/m^3','Time-UTC']]\n",
    "raw_data = raw_data[:-335]"
   ]
  },
  {
   "cell_type": "markdown",
   "metadata": {},
   "source": [
    "  \n",
    "  A01_aanderaa_hist  \n",
    "  \n",
    "  'station', 'time', 'mooring_site_desc', 'current_speed', 'current_speed_qc', 'current_direction', 'current_direction_qc', 'temperature', 'temperature_qc', 'longitude', 'latitude', 'depth'\n",
    "  \n",
    "  A01_aanderaa_o2_all  \n",
    "  \n",
    "  'station', 'mooring_site_desc', 'water_depth', 'time', 'longitude', 'latitude', 'depth', 'current_speed', 'current_speed_qc', 'current_direction', 'current_direction_qc', 'current_u', 'current_u_qc', 'current_v', 'current_v_qc', 'temperature', 'temperature_qc', 'dissolved_oxygen', 'dissolved_oxygen_qc', 'percent_oxygen_saturation', 'percent_oxygen_saturation_qc', 'time_created', 'time_modified'\n",
    "  \n",
    "  A01_accelerometer_all  \n",
    "  \n",
    "  'station', 'time', 'mooring_site_desc', 'significant_wave_height', 'significant_wave_height_qc', 'dominant_wave_period', 'dominant_wave_period_qc', 'longitude', 'latitude', 'depth'\n",
    "  \n",
    "  A01_waves_mstrain_all \n",
    "  \n",
    "  'station', 'time', 'mooring_site_desc', 'water_depth', 'index', 'significant_wave_height_3', 'significant_wave_height_3_qc', 'maximum_wave_height_3', 'maximum_wave_height_3_qc', 'dominant_wave_period_3', 'dominant_wave_period_3_qc', 'mean_wave_direction_3', 'mean_wave_direction_3_qc', 'mean_wave_direction_spread_3', 'mean_wave_direction_spread_3_qc', 'principal_wave_direction_3', 'principal_wave_direction_3_qc', 'principal_wave_direction_spread_3', 'principal_wave_direction_spread_3_qc', 'swell_wave_height_3', 'swell_wave_height_3_qc', 'swell_wave_period_3', 'swell_wave_period_3_qc', 'wind_wave_height_3', 'wind_wave_height_3_qc', 'wind_wave_period_3', 'wind_wave_period_3_qc', 'swell_and_wind_wave_separation_frequency_3', 'swell_and_wind_wave_separation_frequency_3_qc', 'wave_steepness_3', 'wave_steepness_3_qc', 'offset_time', 'time_created', 'time_modified', 'longitude', 'latitude', 'depth'\n",
    "  \n",
    "  A01_met_all  \n",
    "  \n",
    "  'station', 'time', 'mooring_site_desc', 'air_temperature', 'air_temperature_qc', 'barometric_pressure', 'barometric_pressure_qc', 'wind_gust', 'wind_gust_qc', 'wind_speed', 'wind_speed_qc', 'wind_direction', 'wind_direction_qc', 'visibility', 'visibility_qc', 'longitude', 'latitude', 'depth'\n",
    "  \n",
    "  A01_optics_s_all  \n",
    "  \n",
    "  'station', 'mooring_site_desc', 'time',_A01_aanderaa_hist\n",
    "  \n",
    "  'station', 'time', 'mooring_site_desc', 'current_speed', 'current_speed_qc', 'current_direction', 'current_direction_qc', 'temperature', 'temperature_qc', 'longitude', 'latitude', 'depth'\n",
    "  \n",
    "  A01_aanderaa_o2_all  \n",
    "  \n",
    "  'station', 'mooring_site_desc', 'water_depth', 'time', 'longitude', 'latitude', 'depth', 'current_speed', 'current_speed_qc', 'current_direction', 'current_direction_qc', 'current_u', 'current_u_qc', 'current_v', 'current_v_qc', 'temperature', 'temperature_qc', 'dissolved_oxygen', 'dissolved_oxygen_qc', 'percent_oxygen_saturation', 'percent_oxygen_saturation_qc', 'time_created', 'time_modified'\n",
    "  \n",
    "  A01_accelerometer_all  \n",
    "  \n",
    "  'station', 'time', 'mooring_site_desc', 'significant_wave_height', 'significant_wave_height_qc', 'dominant_wave_period', 'dominant_wave_period_qc', 'longitude', 'latitude', 'depth'\n",
    "  \n",
    "  A01_waves_mstrain_all  \n",
    "  \n",
    "  'station', 'time', 'mooring_site_desc', 'water_depth', 'index', 'significant_wave_height_3', 'significant_wave_height_3_qc', 'maximum_wave_height_3', 'maximum_wave_height_3_qc', 'dominant_wave_period_3', 'dominant_wave_period_3_qc', 'mean_wave_direction_3', 'mean_wave_direction_3_qc', 'mean_wave_direction_spread_3', 'mean_wave_direction_spread_3_qc', 'principal_wave_direction_3', 'principal_wave_direction_3_qc', 'principal_wave_direction_spread_3', 'principal_wave_direction_spread_3_qc', 'swell_wave_height_3', 'swell_wave_height_3_qc', 'swell_wave_period_3', 'swell_wave_period_3_qc', 'wind_wave_height_3', 'wind_wave_height_3_qc', 'wind_wave_period_3', 'wind_wave_period_3_qc', 'swell_and_wind_wave_separation_frequency_3', 'swell_and_wind_wave_separation_frequency_3_qc', 'wave_steepness_3', 'wave_steepness_3_qc', 'offset_time', 'time_created', 'time_modified', 'longitude', 'latitude', 'depth'\n",
    "  \n",
    "  A01_met_all  \n",
    "  \n",
    "  'station', 'time', 'mooring_site_desc', 'air_temperature', 'air_temperature_qc', 'barometric_pressure', 'barometric_pressure_qc', 'wind_gust', 'wind_gust_qc', 'wind_speed', 'wind_speed_qc', 'wind_direction', 'wind_direction_qc', 'visibility', 'visibility_qc', 'longitude', 'latitude', 'depth'\n",
    "  \n",
    "  A01_optics_s_all  \n",
    "  \n",
    "  'station', 'mooring_site_desc', 'time', _'chlorophyll'_, 'chlorophyll_qc', 'turbidity', 'turbidity_qc', 'longitude', 'latitude', 'depth'\n",
    "  \n",
    "  A01_optode_all  \n",
    "  \n",
    "  'station', 'time', 'mooring_site_desc', 'dissolved_oxygen', 'dissolved_oxygen_qc', 'oxygen_saturation', 'oxygen_saturation_qc', 'percent_oxygen_saturation', 'percent_oxygen_saturation_qc', 'temperature', 'temperature_qc', 'time_created', 'time_modified', 'longitude', 'latitude', 'depth'\n",
    "  \n",
    "  A01_doppler_rt  \n",
    "  \n",
    "  'station', 'mooring_site_desc', 'water_depth', 'time', 'longitude', 'latitude', 'depth', 'offset_time', 'current_u', 'current_u_qc', 'current_v', 'current_v_qc'\n",
    "  \n",
    "  A01_sbe16_trans_all  \n",
    "  \n",
    "  'station', 'time', 'mooring_site_desc', 'water_depth', 'transmissivity_voltage', 'transmissivity_voltage_qc', 'transmissivity', 'transmissivity_qc', 'attenuation', 'attenuation_qc', 'conductivity', 'conductivity_qc', 'temperature', 'temperature_qc', 'salinity', 'salinity_qc', 'sigma_t', 'sigma_t_qc', 'time_created', 'time_modified', 'longitude', 'latitude', 'depth'\n",
    "  \n",
    "  A01_sbe16_disox_all  \n",
    "  \n",
    "  'station', 'time', 'mooring_site_desc', 'dissolved_oxygen', 'dissolved_oxygen_qc', 'oxygen_saturation', 'oxygen_saturation_qc', 'percent_oxygen_saturation', 'percent_oxygen_saturation_qc', 'conductivity', 'conductivity_qc', 'temperature', 'temperature_qc', 'salinity', 'salinity_qc', 'sigma_t', 'sigma_t_qc', 'longitude', 'latitude', 'depth'\n",
    "  \n",
    "  A01_sbe37_all  \n",
    "  \n",
    "  'station', 'time', 'mooring_site_desc', 'conductivity', 'conductivity_qc', 'temperature', 'temperature_qc', 'salinity', 'salinity_qc', 'sigma_t', 'sigma_t_qc', 'longitude', 'latitude', 'depth'_, 'chlorophyll_qc', 'turbidity', 'turbidity_qc', 'longitude', 'latitude', 'depth'\n",
    "  \n",
    "  A01_optode_all  \n",
    "  \n",
    "  'station', 'time', 'mooring_site_desc', 'dissolved_oxygen', 'dissolved_oxygen_qc', 'oxygen_saturation', 'oxygen_saturation_qc', 'percent_oxygen_saturation', 'percent_oxygen_saturation_qc', 'temperature', 'temperature_qc', 'time_created', 'time_modified', 'longitude', 'latitude', 'depth'\n",
    "  \n",
    "  A01_doppler_rt  \n",
    "  \n",
    "  'station', 'mooring_site_desc', 'water_depth', 'time', 'longitude', 'latitude', 'depth', 'offset_time', 'current_u', 'current_u_qc', 'current_v', 'current_v_qc'\n",
    "  \n",
    "  A01_sbe16_trans_all  \n",
    "  \n",
    "  'station', 'time', 'mooring_site_desc', 'water_depth', 'transmissivity_voltage', 'transmissivity_voltage_qc', 'transmissivity', 'transmissivity_qc', 'attenuation', 'attenuation_qc', 'conductivity', 'conductivity_qc', 'temperature', 'temperature_qc', 'salinity', 'salinity_qc', 'sigma_t', 'sigma_t_qc', 'time_created', 'time_modified', 'longitude', 'latitude', 'depth'\n",
    "  \n",
    "  A01_sbe16_disox_all  \n",
    "  \n",
    "  'station', 'time', 'mooring_site_desc', 'dissolved_oxygen', 'dissolved_oxygen_qc', 'oxygen_saturation', 'oxygen_saturation_qc', 'percent_oxygen_saturation', 'percent_oxygen_saturation_qc', 'conductivity', 'conductivity_qc', 'temperature', 'temperature_qc', 'salinity', 'salinity_qc', 'sigma_t', 'sigma_t_qc', 'longitude', 'latitude', 'depth'\n",
    "  \n",
    "  A01_sbe37_all  \n",
    "  \n",
    "  'station', 'time', 'mooring_site_desc', 'conductivity', 'conductivity_qc', 'temperature', 'temperature_qc', 'salinity', 'salinity_qc', 'sigma_t', 'sigma_t_qc', 'longitude', 'latitude', 'depth'"
   ]
  }
 ],
 "metadata": {
  "kernelspec": {
   "display_name": "Python 3.7.6 64-bit ('anaconda3': virtualenv)",
   "language": "python",
   "name": "python37664bitanaconda3virtualenv142111621536400ca43d9401876c2147"
  },
  "language_info": {
   "codemirror_mode": {
    "name": "ipython",
    "version": 3
   },
   "file_extension": ".py",
   "mimetype": "text/x-python",
   "name": "python",
   "nbconvert_exporter": "python",
   "pygments_lexer": "ipython3",
   "version": "3.7.6"
  }
 },
 "nbformat": 4,
 "nbformat_minor": 4
}
